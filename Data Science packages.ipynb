{
 "cells": [
  {
   "cell_type": "markdown",
   "id": "11c6ba2d",
   "metadata": {},
   "source": [
    "# Numpy"
   ]
  },
  {
   "cell_type": "code",
   "execution_count": 1,
   "id": "ca2eae75",
   "metadata": {},
   "outputs": [],
   "source": [
    "import numpy as np"
   ]
  },
  {
   "cell_type": "code",
   "execution_count": 2,
   "id": "4417c942",
   "metadata": {},
   "outputs": [
    {
     "name": "stdout",
     "output_type": "stream",
     "text": [
      "[1 2 3 4]\n",
      "[1 2 3 4]\n"
     ]
    },
    {
     "data": {
      "text/plain": [
       "numpy.ndarray"
      ]
     },
     "execution_count": 2,
     "metadata": {},
     "output_type": "execute_result"
    }
   ],
   "source": [
    "a = np.array([1, 2, 3, 4]) # as a list\n",
    "b = np.array((1, 2, 3, 4)) # as a tuple\n",
    "print(a)\n",
    "print(b)\n",
    "type(a)\n",
    "type(b)"
   ]
  },
  {
   "cell_type": "code",
   "execution_count": 3,
   "id": "23d595fa",
   "metadata": {},
   "outputs": [
    {
     "data": {
      "text/plain": [
       "dtype('int32')"
      ]
     },
     "execution_count": 3,
     "metadata": {},
     "output_type": "execute_result"
    }
   ],
   "source": [
    "a.dtype # type stored in array a"
   ]
  },
  {
   "cell_type": "code",
   "execution_count": 4,
   "id": "c109f08e",
   "metadata": {},
   "outputs": [],
   "source": [
    "a = np.array([1, 2, 3, 4], dtype = 'f')"
   ]
  },
  {
   "cell_type": "code",
   "execution_count": 5,
   "id": "ae0ec79a",
   "metadata": {},
   "outputs": [
    {
     "data": {
      "text/plain": [
       "dtype('float32')"
      ]
     },
     "execution_count": 5,
     "metadata": {},
     "output_type": "execute_result"
    }
   ],
   "source": [
    "a.dtype"
   ]
  },
  {
   "cell_type": "markdown",
   "id": "38c9dd83",
   "metadata": {},
   "source": [
    "### Dimensions in numpy"
   ]
  },
  {
   "cell_type": "code",
   "execution_count": 6,
   "id": "40379ce4",
   "metadata": {},
   "outputs": [
    {
     "name": "stdout",
     "output_type": "stream",
     "text": [
      "2\n"
     ]
    }
   ],
   "source": [
    "a = np.array([[1, 2, 3], [4, 5, 6]])\n",
    "print(a.ndim) # numbers of indexes to access the items"
   ]
  },
  {
   "cell_type": "code",
   "execution_count": 8,
   "id": "d0c68655",
   "metadata": {},
   "outputs": [
    {
     "name": "stdout",
     "output_type": "stream",
     "text": [
      "3\n"
     ]
    }
   ],
   "source": [
    "b = np.array([[[1, 2, 3], [4, 5, 6]], \n",
    "              [[1, 2, 3], [4, 5, 6]]])\n",
    "print(b.ndim)"
   ]
  },
  {
   "cell_type": "code",
   "execution_count": 9,
   "id": "6a523bae",
   "metadata": {},
   "outputs": [
    {
     "data": {
      "text/plain": [
       "3"
      ]
     },
     "execution_count": 9,
     "metadata": {},
     "output_type": "execute_result"
    }
   ],
   "source": [
    "b[0][0][2]"
   ]
  },
  {
   "cell_type": "code",
   "execution_count": 12,
   "id": "04f9b2e3",
   "metadata": {},
   "outputs": [
    {
     "name": "stdout",
     "output_type": "stream",
     "text": [
      "2\n",
      "2\n",
      "3\n"
     ]
    }
   ],
   "source": [
    "# shape, size, 0,1 dim arrays\n",
    "print(b.shape[0])\n",
    "print(b.shape[1])\n",
    "print(b.shape[2])"
   ]
  },
  {
   "cell_type": "code",
   "execution_count": 13,
   "id": "39a17d0b",
   "metadata": {},
   "outputs": [
    {
     "data": {
      "text/plain": [
       "12"
      ]
     },
     "execution_count": 13,
     "metadata": {},
     "output_type": "execute_result"
    }
   ],
   "source": [
    "b.size # b.shape[0] x b.shape[1] x b.shape[2]"
   ]
  },
  {
   "cell_type": "code",
   "execution_count": 14,
   "id": "302e43f0",
   "metadata": {},
   "outputs": [],
   "source": [
    "a_dim1 = np.array([1])\n",
    "a_dim0 = np.array(0)"
   ]
  },
  {
   "cell_type": "code",
   "execution_count": 15,
   "id": "a77d367a",
   "metadata": {},
   "outputs": [
    {
     "name": "stdout",
     "output_type": "stream",
     "text": [
      "1 1\n"
     ]
    }
   ],
   "source": [
    "print(a_dim0.size, a_dim1.size)"
   ]
  },
  {
   "cell_type": "code",
   "execution_count": 20,
   "id": "121b1111",
   "metadata": {},
   "outputs": [
    {
     "data": {
      "text/plain": [
       "array([[[1., 1.],\n",
       "        [1., 1.]],\n",
       "\n",
       "       [[1., 1.],\n",
       "        [1., 1.]]])"
      ]
     },
     "execution_count": 20,
     "metadata": {},
     "output_type": "execute_result"
    }
   ],
   "source": [
    "np.zeros((2, 2, 2))\n",
    "np.ones((2, 2, 2))"
   ]
  },
  {
   "cell_type": "code",
   "execution_count": 23,
   "id": "d965bc04",
   "metadata": {},
   "outputs": [
    {
     "name": "stdout",
     "output_type": "stream",
     "text": [
      "[0 1 2 3 4 5 6 7 8 9]\n"
     ]
    }
   ],
   "source": [
    "print(np.arange(10))"
   ]
  },
  {
   "cell_type": "code",
   "execution_count": 24,
   "id": "480e5c4d",
   "metadata": {},
   "outputs": [
    {
     "name": "stdout",
     "output_type": "stream",
     "text": [
      "[20 21 22 23 24 25 26 27 28 29 30 31 32 33 34 35 36 37 38 39 40 41 42 43\n",
      " 44 45 46 47 48 49 50 51 52 53 54 55 56 57 58 59 60 61 62 63 64 65 66 67\n",
      " 68 69 70 71 72 73 74 75 76 77 78 79 80 81 82 83 84 85 86 87 88 89 90 91\n",
      " 92 93 94 95 96 97 98 99]\n"
     ]
    }
   ],
   "source": [
    "print(np.arange(20, 100))"
   ]
  },
  {
   "cell_type": "code",
   "execution_count": 25,
   "id": "5362a11a",
   "metadata": {},
   "outputs": [
    {
     "name": "stdout",
     "output_type": "stream",
     "text": [
      "[20 22 24 26 28 30 32 34 36 38 40 42 44 46 48 50 52 54 56 58 60 62 64 66\n",
      " 68 70 72 74 76 78 80 82 84 86 88 90 92 94 96 98]\n"
     ]
    }
   ],
   "source": [
    "print(np.arange(20, 100, 2)) # similar to range"
   ]
  },
  {
   "cell_type": "code",
   "execution_count": 28,
   "id": "2529e456",
   "metadata": {},
   "outputs": [
    {
     "name": "stdout",
     "output_type": "stream",
     "text": [
      "[9 8 1 5 3 0 7 4 6 2]\n"
     ]
    }
   ],
   "source": [
    "print(np.random.permutation(np.arange(10))) #shuffling"
   ]
  },
  {
   "cell_type": "code",
   "execution_count": 32,
   "id": "92918b75",
   "metadata": {},
   "outputs": [
    {
     "name": "stdout",
     "output_type": "stream",
     "text": [
      "[0.89142669 0.59877537 0.66233639 0.91601309 0.28691723 0.0115463\n",
      " 0.10097953 0.61980561 0.12029935 0.10821198 0.77484055 0.87592235\n",
      " 0.15692491 0.64485793 0.66714185 0.71768335 0.85668609 0.69159733\n",
      " 0.79343038 0.72296381 0.22632102 0.2983519  0.15045247 0.02939427\n",
      " 0.70094311 0.03750779 0.2640723  0.61875615 0.83643039 0.08729535\n",
      " 0.29184476 0.54771097 0.01837447 0.6786706  0.08630721 0.54454929\n",
      " 0.48129446 0.32324934 0.30861854 0.80803657 0.56191343 0.43991091\n",
      " 0.02081764 0.78428641 0.70636547 0.14227522 0.19343099 0.09911188\n",
      " 0.95225809 0.88720337 0.86106794 0.64490383 0.33509238 0.17444625\n",
      " 0.13716277 0.04398593 0.98820269 0.01711671 0.71903389 0.9373232\n",
      " 0.2015238  0.49911373 0.88843365 0.549898   0.08225987 0.60053974\n",
      " 0.98640276 0.05816643 0.89314505 0.34077562 0.55529959 0.32170217\n",
      " 0.03207645 0.25421704 0.37287197 0.39744442 0.74126377 0.21557161\n",
      " 0.80564425 0.76277317 0.03144245 0.99418293 0.84247094 0.0216614\n",
      " 0.03435358 0.99834306 0.53337257 0.13127202 0.3876022  0.93487124\n",
      " 0.90054789 0.04607905 0.62575035 0.58777728 0.75572325 0.52988677\n",
      " 0.19867522 0.57570839 0.35713408 0.61685024]\n"
     ]
    }
   ],
   "source": [
    "print(np.random.rand(100))"
   ]
  },
  {
   "cell_type": "code",
   "execution_count": 39,
   "id": "b968cac1",
   "metadata": {
    "scrolled": true
   },
   "outputs": [
    {
     "data": {
      "text/plain": [
       "(array([2., 1., 1., 1., 0., 1., 1., 0., 1., 1., 3., 1., 1., 0., 0., 0., 1.,\n",
       "        3., 1., 3., 1., 0., 2., 1., 1., 1., 1., 0., 0., 0., 0., 1., 1., 1.,\n",
       "        2., 3., 0., 1., 2., 1., 1., 0., 0., 1., 2., 1., 0., 2., 3., 1., 2.,\n",
       "        1., 0., 1., 0., 0., 1., 1., 1., 1., 0., 1., 5., 1., 1., 1., 1., 3.,\n",
       "        1., 2., 0., 1., 2., 0., 1., 0., 1., 1., 1., 2., 1., 1., 2., 2., 0.,\n",
       "        0., 1., 1., 1., 1., 0., 0., 1., 1., 0., 1., 0., 0., 1., 1.]),\n",
       " array([0.00328962, 0.01310763, 0.02292563, 0.03274364, 0.04256164,\n",
       "        0.05237965, 0.06219765, 0.07201566, 0.08183366, 0.09165167,\n",
       "        0.10146967, 0.11128768, 0.12110568, 0.13092368, 0.14074169,\n",
       "        0.15055969, 0.1603777 , 0.1701957 , 0.18001371, 0.18983171,\n",
       "        0.19964972, 0.20946772, 0.21928573, 0.22910373, 0.23892174,\n",
       "        0.24873974, 0.25855775, 0.26837575, 0.27819375, 0.28801176,\n",
       "        0.29782976, 0.30764777, 0.31746577, 0.32728378, 0.33710178,\n",
       "        0.34691979, 0.35673779, 0.3665558 , 0.3763738 , 0.38619181,\n",
       "        0.39600981, 0.40582781, 0.41564582, 0.42546382, 0.43528183,\n",
       "        0.44509983, 0.45491784, 0.46473584, 0.47455385, 0.48437185,\n",
       "        0.49418986, 0.50400786, 0.51382587, 0.52364387, 0.53346187,\n",
       "        0.54327988, 0.55309788, 0.56291589, 0.57273389, 0.5825519 ,\n",
       "        0.5923699 , 0.60218791, 0.61200591, 0.62182392, 0.63164192,\n",
       "        0.64145993, 0.65127793, 0.66109593, 0.67091394, 0.68073194,\n",
       "        0.69054995, 0.70036795, 0.71018596, 0.72000396, 0.72982197,\n",
       "        0.73963997, 0.74945798, 0.75927598, 0.76909399, 0.77891199,\n",
       "        0.78872999, 0.798548  , 0.808366  , 0.81818401, 0.82800201,\n",
       "        0.83782002, 0.84763802, 0.85745603, 0.86727403, 0.87709204,\n",
       "        0.88691004, 0.89672805, 0.90654605, 0.91636405, 0.92618206,\n",
       "        0.93600006, 0.94581807, 0.95563607, 0.96545408, 0.97527208,\n",
       "        0.98509009]),\n",
       " <BarContainer object of 100 artists>)"
      ]
     },
     "execution_count": 39,
     "metadata": {},
     "output_type": "execute_result"
    },
    {
     "data": {
      "image/png": "[encoded data removed]",
      "text/plain": [
       "<Figure size 432x288 with 1 Axes>"
      ]
     },
     "metadata": {
      "needs_background": "light"
     },
     "output_type": "display_data"
    }
   ],
   "source": [
    "# creating a histogram\n",
    "import matplotlib.pyplot as plt #!!! the correct way to import it \n",
    "plt.hist(np.random.rand(100), bins=100)"
   ]
  },
  {
   "cell_type": "code",
   "execution_count": 40,
   "id": "bb6d894b",
   "metadata": {},
   "outputs": [
    {
     "name": "stdout",
     "output_type": "stream",
     "text": [
      "[[[0.88958784 0.88130043 0.90998902 0.39468838]\n",
      "  [0.18935051 0.44770695 0.46535383 0.61215368]\n",
      "  [0.00311506 0.21954987 0.20294042 0.78947064]]\n",
      "\n",
      " [[0.69501079 0.16476577 0.14270002 0.54657286]\n",
      "  [0.92545743 0.79521269 0.58649554 0.83152244]\n",
      "  [0.80604853 0.34893195 0.83676276 0.97978834]]]\n"
     ]
    }
   ],
   "source": [
    "print(np.random.rand(2, 3, 4))"
   ]
  },
  {
   "cell_type": "code",
   "execution_count": 41,
   "id": "3a0a11a1",
   "metadata": {},
   "outputs": [],
   "source": [
    "d = np.arange(100).reshape(20, 5)"
   ]
  },
  {
   "cell_type": "code",
   "execution_count": 42,
   "id": "385f6936",
   "metadata": {},
   "outputs": [
    {
     "name": "stdout",
     "output_type": "stream",
     "text": [
      "[[ 0  1  2  3  4]\n",
      " [ 5  6  7  8  9]\n",
      " [10 11 12 13 14]\n",
      " [15 16 17 18 19]\n",
      " [20 21 22 23 24]\n",
      " [25 26 27 28 29]\n",
      " [30 31 32 33 34]\n",
      " [35 36 37 38 39]\n",
      " [40 41 42 43 44]\n",
      " [45 46 47 48 49]\n",
      " [50 51 52 53 54]\n",
      " [55 56 57 58 59]\n",
      " [60 61 62 63 64]\n",
      " [65 66 67 68 69]\n",
      " [70 71 72 73 74]\n",
      " [75 76 77 78 79]\n",
      " [80 81 82 83 84]\n",
      " [85 86 87 88 89]\n",
      " [90 91 92 93 94]\n",
      " [95 96 97 98 99]]\n"
     ]
    }
   ],
   "source": [
    "print(d)"
   ]
  },
  {
   "cell_type": "code",
   "execution_count": 43,
   "id": "e354f8db",
   "metadata": {},
   "outputs": [],
   "source": [
    "d = np.arange(100).reshape(5, 5, 4)"
   ]
  },
  {
   "cell_type": "code",
   "execution_count": 44,
   "id": "37a98fef",
   "metadata": {},
   "outputs": [
    {
     "name": "stdout",
     "output_type": "stream",
     "text": [
      "[[[ 0  1  2  3]\n",
      "  [ 4  5  6  7]\n",
      "  [ 8  9 10 11]\n",
      "  [12 13 14 15]\n",
      "  [16 17 18 19]]\n",
      "\n",
      " [[20 21 22 23]\n",
      "  [24 25 26 27]\n",
      "  [28 29 30 31]\n",
      "  [32 33 34 35]\n",
      "  [36 37 38 39]]\n",
      "\n",
      " [[40 41 42 43]\n",
      "  [44 45 46 47]\n",
      "  [48 49 50 51]\n",
      "  [52 53 54 55]\n",
      "  [56 57 58 59]]\n",
      "\n",
      " [[60 61 62 63]\n",
      "  [64 65 66 67]\n",
      "  [68 69 70 71]\n",
      "  [72 73 74 75]\n",
      "  [76 77 78 79]]\n",
      "\n",
      " [[80 81 82 83]\n",
      "  [84 85 86 87]\n",
      "  [88 89 90 91]\n",
      "  [92 93 94 95]\n",
      "  [96 97 98 99]]]\n"
     ]
    }
   ],
   "source": [
    "print(d)"
   ]
  },
  {
   "cell_type": "code",
   "execution_count": null,
   "id": "eee17da1",
   "metadata": {},
   "outputs": [],
   "source": []
  }
 ],
 "metadata": {
  "kernelspec": {
   "display_name": "Python 3 (ipykernel)",
   "language": "python",
   "name": "python3"
  },
  "language_info": {
   "codemirror_mode": {
    "name": "ipython",
    "version": 3
   },
   "file_extension": ".py",
   "mimetype": "text/x-python",
   "name": "python",
   "nbconvert_exporter": "python",
   "pygments_lexer": "ipython3",
   "version": "3.9.12"
  }
 },
 "nbformat": 4,
 "nbformat_minor": 5
}
