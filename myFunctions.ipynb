{
 "cells": [
  {
   "cell_type": "code",
   "execution_count": 1,
   "id": "2d8633e6",
   "metadata": {},
   "outputs": [],
   "source": [
    "\"\"\" this function does not work for a list \n",
    "    one signle argument that's not numeric\n",
    "\"\"\"\n",
    "def checkIfNotNumeric(*args):\n",
    "    retValue = True\n",
    "    for x in args:\n",
    "        if not(isinstanceance(x, (int, float))):\n",
    "            retValue = False\n",
    "    return retValue"
   ]
  },
  {
   "cell_type": "code",
   "execution_count": 2,
   "id": "2a17792c",
   "metadata": {},
   "outputs": [],
   "source": [
    "def addAllNumeric(*args):\n",
    "    s = 0\n",
    "    for x in args:\n",
    "        s += x\n",
    "    return s"
   ]
  },
  {
   "cell_type": "code",
   "execution_count": 3,
   "id": "e52666f6",
   "metadata": {},
   "outputs": [],
   "source": [
    "myName = \"Ouissal\""
   ]
  },
  {
   "cell_type": "code",
   "execution_count": null,
   "id": "79c3f28a",
   "metadata": {},
   "outputs": [],
   "source": [
    " "
   ]
  }
 ],
 "metadata": {
  "kernelspec": {
   "display_name": "Python 3 (ipykernel)",
   "language": "python",
   "name": "python3"
  },
  "language_info": {
   "codemirror_mode": {
    "name": "ipython",
    "version": 3
   },
   "file_extension": ".py",
   "mimetype": "text/x-python",
   "name": "python",
   "nbconvert_exporter": "python",
   "pygments_lexer": "ipython3",
   "version": "3.9.12"
  }
 },
 "nbformat": 4,
 "nbformat_minor": 5
}
