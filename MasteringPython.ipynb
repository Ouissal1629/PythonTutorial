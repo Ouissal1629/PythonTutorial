{
 "cells": [
  {
   "cell_type": "markdown",
   "id": "6546a680",
   "metadata": {},
   "source": [
    "# This is Python Tutorial"
   ]
  },
  {
   "cell_type": "markdown",
   "id": "fe0c389d",
   "metadata": {},
   "source": [
    "This is our first program in python"
   ]
  },
  {
   "cell_type": "code",
   "execution_count": 1,
   "id": "c678dc35",
   "metadata": {},
   "outputs": [
    {
     "name": "stdout",
     "output_type": "stream",
     "text": [
      "Hello world\n"
     ]
    }
   ],
   "source": [
    "print(\"Hello world\")"
   ]
  },
  {
   "cell_type": "markdown",
   "id": "aa60c1e7",
   "metadata": {},
   "source": [
    "$a = b+c$"
   ]
  },
  {
   "cell_type": "markdown",
   "id": "600b7d0b",
   "metadata": {},
   "source": [
    "# Variables"
   ]
  },
  {
   "cell_type": "code",
   "execution_count": 2,
   "id": "fe6aa4b3",
   "metadata": {},
   "outputs": [],
   "source": [
    "x = 3"
   ]
  },
  {
   "cell_type": "code",
   "execution_count": 3,
   "id": "f5c413ce",
   "metadata": {},
   "outputs": [
    {
     "name": "stdout",
     "output_type": "stream",
     "text": [
      "Variable   Type    Data/Info\n",
      "----------------------------\n",
      "x          int     3\n"
     ]
    }
   ],
   "source": [
    "%whos"
   ]
  },
  {
   "cell_type": "code",
   "execution_count": 4,
   "id": "d82dd55c",
   "metadata": {},
   "outputs": [
    {
     "name": "stdout",
     "output_type": "stream",
     "text": [
      "<class 'int'>\n"
     ]
    }
   ],
   "source": [
    "print(type(x))"
   ]
  },
  {
   "cell_type": "code",
   "execution_count": 5,
   "id": "d77866a3",
   "metadata": {},
   "outputs": [],
   "source": [
    "x = 5.7"
   ]
  },
  {
   "cell_type": "code",
   "execution_count": 6,
   "id": "ff0caf9b",
   "metadata": {},
   "outputs": [
    {
     "name": "stdout",
     "output_type": "stream",
     "text": [
      "Variable   Type     Data/Info\n",
      "-----------------------------\n",
      "x          float    5.7\n"
     ]
    }
   ],
   "source": [
    "%whos"
   ]
  },
  {
   "cell_type": "code",
   "execution_count": 7,
   "id": "eb170f3b",
   "metadata": {},
   "outputs": [
    {
     "name": "stdout",
     "output_type": "stream",
     "text": [
      "<class 'float'>\n"
     ]
    }
   ],
   "source": [
    "print(type(x))"
   ]
  },
  {
   "cell_type": "code",
   "execution_count": 8,
   "id": "cbd6ec80",
   "metadata": {},
   "outputs": [],
   "source": [
    "abcd = 556.32"
   ]
  },
  {
   "cell_type": "code",
   "execution_count": 9,
   "id": "cf7d4d36",
   "metadata": {},
   "outputs": [
    {
     "name": "stdout",
     "output_type": "stream",
     "text": [
      "Variable   Type     Data/Info\n",
      "-----------------------------\n",
      "abcd       float    556.32\n",
      "x          float    5.7\n"
     ]
    }
   ],
   "source": [
    "%whos"
   ]
  },
  {
   "cell_type": "code",
   "execution_count": 10,
   "id": "afde14c0",
   "metadata": {},
   "outputs": [],
   "source": [
    "a, b, c, d, f = 3, 5, 6.0, 7.2, -3"
   ]
  },
  {
   "cell_type": "code",
   "execution_count": 11,
   "id": "92f1ab61",
   "metadata": {},
   "outputs": [
    {
     "name": "stdout",
     "output_type": "stream",
     "text": [
      "Variable   Type     Data/Info\n",
      "-----------------------------\n",
      "a          int      3\n",
      "abcd       float    556.32\n",
      "b          int      5\n",
      "c          float    6.0\n",
      "d          float    7.2\n",
      "f          int      -3\n",
      "x          float    5.7\n"
     ]
    }
   ],
   "source": [
    "%whos"
   ]
  },
  {
   "cell_type": "code",
   "execution_count": 12,
   "id": "40d4f549",
   "metadata": {},
   "outputs": [],
   "source": [
    "del abcd"
   ]
  },
  {
   "cell_type": "code",
   "execution_count": 13,
   "id": "9bffef4b",
   "metadata": {},
   "outputs": [
    {
     "name": "stdout",
     "output_type": "stream",
     "text": [
      "Variable   Type     Data/Info\n",
      "-----------------------------\n",
      "a          int      3\n",
      "b          int      5\n",
      "c          float    6.0\n",
      "d          float    7.2\n",
      "f          int      -3\n",
      "x          float    5.7\n"
     ]
    }
   ],
   "source": [
    "%whos"
   ]
  },
  {
   "cell_type": "code",
   "execution_count": 14,
   "id": "bb1b2d52",
   "metadata": {},
   "outputs": [
    {
     "ename": "NameError",
     "evalue": "name 'abcd' is not defined",
     "output_type": "error",
     "traceback": [
      "\u001b[1;31m---------------------------------------------------------------------------\u001b[0m",
      "\u001b[1;31mNameError\u001b[0m                                 Traceback (most recent call last)",
      "Input \u001b[1;32mIn [14]\u001b[0m, in \u001b[0;36m<cell line: 1>\u001b[1;34m()\u001b[0m\n\u001b[1;32m----> 1\u001b[0m \u001b[38;5;28mprint\u001b[39m(\u001b[43mabcd\u001b[49m)\n",
      "\u001b[1;31mNameError\u001b[0m: name 'abcd' is not defined"
     ]
    }
   ],
   "source": [
    "print(abcd)"
   ]
  },
  {
   "cell_type": "code",
   "execution_count": 17,
   "id": "9fc87c7e",
   "metadata": {},
   "outputs": [],
   "source": [
    "c = 2+4j"
   ]
  },
  {
   "cell_type": "code",
   "execution_count": 18,
   "id": "be453bf8",
   "metadata": {},
   "outputs": [
    {
     "name": "stdout",
     "output_type": "stream",
     "text": [
      "(2+4j)\n"
     ]
    }
   ],
   "source": [
    "print(c)"
   ]
  },
  {
   "cell_type": "code",
   "execution_count": 19,
   "id": "72ebd849",
   "metadata": {},
   "outputs": [
    {
     "name": "stdout",
     "output_type": "stream",
     "text": [
      "<class 'complex'>\n"
     ]
    }
   ],
   "source": [
    "print(type(c))"
   ]
  },
  {
   "cell_type": "code",
   "execution_count": 20,
   "id": "b83d9c0e",
   "metadata": {},
   "outputs": [],
   "source": [
    "s = \"Hello how are you?\""
   ]
  },
  {
   "cell_type": "code",
   "execution_count": 21,
   "id": "13c957ba",
   "metadata": {},
   "outputs": [
    {
     "name": "stdout",
     "output_type": "stream",
     "text": [
      "<class 'str'>\n"
     ]
    }
   ],
   "source": [
    "print(type(s))"
   ]
  },
  {
   "cell_type": "markdown",
   "id": "0a4ef0c3",
   "metadata": {},
   "source": [
    "# Operators"
   ]
  },
  {
   "cell_type": "code",
   "execution_count": 22,
   "id": "3b091f93",
   "metadata": {},
   "outputs": [
    {
     "name": "stdout",
     "output_type": "stream",
     "text": [
      "Variable   Type       Data/Info\n",
      "-------------------------------\n",
      "a          int        3\n",
      "b          int        5\n",
      "c          complex    (2+4j)\n",
      "d          float      7.2\n",
      "f          int        -3\n",
      "s          str        Hello how are you?\n",
      "x          float      5.7\n"
     ]
    }
   ],
   "source": [
    "%whos"
   ]
  },
  {
   "cell_type": "code",
   "execution_count": 23,
   "id": "2abb47e6",
   "metadata": {},
   "outputs": [],
   "source": [
    "sumOf_a_b = a+b"
   ]
  },
  {
   "cell_type": "code",
   "execution_count": 24,
   "id": "eea1a736",
   "metadata": {},
   "outputs": [
    {
     "name": "stdout",
     "output_type": "stream",
     "text": [
      "8\n"
     ]
    }
   ],
   "source": [
    "print(sumOf_a_b)"
   ]
  },
  {
   "cell_type": "code",
   "execution_count": 25,
   "id": "0a64ea01",
   "metadata": {},
   "outputs": [
    {
     "data": {
      "text/plain": [
       "int"
      ]
     },
     "execution_count": 25,
     "metadata": {},
     "output_type": "execute_result"
    }
   ],
   "source": [
    "type(sumOf_a_b)"
   ]
  },
  {
   "cell_type": "code",
   "execution_count": 26,
   "id": "f8cf2e69",
   "metadata": {},
   "outputs": [
    {
     "data": {
      "text/plain": [
       "float"
      ]
     },
     "execution_count": 26,
     "metadata": {},
     "output_type": "execute_result"
    }
   ],
   "source": [
    "type(a + d)"
   ]
  },
  {
   "cell_type": "code",
   "execution_count": 27,
   "id": "09f13d6b",
   "metadata": {},
   "outputs": [],
   "source": [
    "v = ((a+d)**3)/4"
   ]
  },
  {
   "cell_type": "code",
   "execution_count": 28,
   "id": "6d2ab58a",
   "metadata": {},
   "outputs": [
    {
     "name": "stdout",
     "output_type": "stream",
     "text": [
      "265.30199999999996\n"
     ]
    }
   ],
   "source": [
    "print(v)"
   ]
  },
  {
   "cell_type": "code",
   "execution_count": 29,
   "id": "1d573f39",
   "metadata": {},
   "outputs": [],
   "source": [
    "s1 = \"Hello\""
   ]
  },
  {
   "cell_type": "code",
   "execution_count": 30,
   "id": "faa8fc20",
   "metadata": {},
   "outputs": [],
   "source": [
    "s2 = \"World\""
   ]
  },
  {
   "cell_type": "code",
   "execution_count": 31,
   "id": "32fe1e8e",
   "metadata": {},
   "outputs": [],
   "source": [
    "s = s1+s2"
   ]
  },
  {
   "cell_type": "code",
   "execution_count": 32,
   "id": "ff2e1865",
   "metadata": {},
   "outputs": [
    {
     "name": "stdout",
     "output_type": "stream",
     "text": [
      "HelloWorld\n"
     ]
    }
   ],
   "source": [
    "print(s)"
   ]
  },
  {
   "cell_type": "code",
   "execution_count": 33,
   "id": "18bc7144",
   "metadata": {},
   "outputs": [
    {
     "data": {
      "text/plain": [
       "3.3333333333333335"
      ]
     },
     "execution_count": 33,
     "metadata": {},
     "output_type": "execute_result"
    }
   ],
   "source": [
    "10/3"
   ]
  },
  {
   "cell_type": "code",
   "execution_count": 34,
   "id": "01b1a1ed",
   "metadata": {},
   "outputs": [
    {
     "data": {
      "text/plain": [
       "3"
      ]
     },
     "execution_count": 34,
     "metadata": {},
     "output_type": "execute_result"
    }
   ],
   "source": [
    "10//3"
   ]
  },
  {
   "cell_type": "code",
   "execution_count": 35,
   "id": "00a7a694",
   "metadata": {},
   "outputs": [
    {
     "data": {
      "text/plain": [
       "3"
      ]
     },
     "execution_count": 35,
     "metadata": {},
     "output_type": "execute_result"
    }
   ],
   "source": [
    "_"
   ]
  },
  {
   "cell_type": "markdown",
   "id": "054b888c",
   "metadata": {},
   "source": [
    "# Bool"
   ]
  },
  {
   "cell_type": "code",
   "execution_count": 36,
   "id": "1fc73ce9",
   "metadata": {},
   "outputs": [],
   "source": [
    "a = True\n",
    "b = True\n",
    "c = False"
   ]
  },
  {
   "cell_type": "code",
   "execution_count": 37,
   "id": "a252c88d",
   "metadata": {},
   "outputs": [
    {
     "name": "stdout",
     "output_type": "stream",
     "text": [
      "Variable    Type     Data/Info\n",
      "------------------------------\n",
      "a           bool     True\n",
      "b           bool     True\n",
      "c           bool     False\n",
      "d           float    7.2\n",
      "f           int      -3\n",
      "s           str      HelloWorld\n",
      "s1          str      Hello\n",
      "s2          str      World\n",
      "sumOf_a_b   int      8\n",
      "v           float    265.30199999999996\n",
      "x           float    5.7\n"
     ]
    }
   ],
   "source": [
    "%whos"
   ]
  },
  {
   "cell_type": "code",
   "execution_count": 38,
   "id": "05644d51",
   "metadata": {},
   "outputs": [
    {
     "name": "stdout",
     "output_type": "stream",
     "text": [
      "True\n",
      "False\n",
      "False\n"
     ]
    }
   ],
   "source": [
    "print(a and b)\n",
    "print(a and c)\n",
    "print(c and a)"
   ]
  },
  {
   "cell_type": "code",
   "execution_count": 39,
   "id": "89d5e4a3",
   "metadata": {},
   "outputs": [
    {
     "name": "stdout",
     "output_type": "stream",
     "text": [
      "True\n"
     ]
    }
   ],
   "source": [
    "d = a or c\n",
    "print(d)"
   ]
  },
  {
   "cell_type": "code",
   "execution_count": 40,
   "id": "d95b10ca",
   "metadata": {},
   "outputs": [
    {
     "data": {
      "text/plain": [
       "False"
      ]
     },
     "execution_count": 40,
     "metadata": {},
     "output_type": "execute_result"
    }
   ],
   "source": [
    "not(a)"
   ]
  },
  {
   "cell_type": "code",
   "execution_count": 41,
   "id": "16d46361",
   "metadata": {},
   "outputs": [
    {
     "data": {
      "text/plain": [
       "False"
      ]
     },
     "execution_count": 41,
     "metadata": {},
     "output_type": "execute_result"
    }
   ],
   "source": [
    "not(b)"
   ]
  },
  {
   "cell_type": "code",
   "execution_count": 42,
   "id": "b577601a",
   "metadata": {},
   "outputs": [
    {
     "data": {
      "text/plain": [
       "True"
      ]
     },
     "execution_count": 42,
     "metadata": {},
     "output_type": "execute_result"
    }
   ],
   "source": [
    "not(c)"
   ]
  },
  {
   "cell_type": "code",
   "execution_count": 43,
   "id": "def8fac9",
   "metadata": {},
   "outputs": [],
   "source": [
    "t = type(d)"
   ]
  },
  {
   "cell_type": "code",
   "execution_count": 44,
   "id": "913a77cf",
   "metadata": {},
   "outputs": [
    {
     "name": "stdout",
     "output_type": "stream",
     "text": [
      "<class 'bool'>\n"
     ]
    }
   ],
   "source": [
    "print(t)"
   ]
  },
  {
   "cell_type": "code",
   "execution_count": 45,
   "id": "e6b1d9c6",
   "metadata": {},
   "outputs": [
    {
     "data": {
      "text/plain": [
       "False"
      ]
     },
     "execution_count": 45,
     "metadata": {},
     "output_type": "execute_result"
    }
   ],
   "source": [
    "not((a and b) or (c or d))"
   ]
  },
  {
   "cell_type": "markdown",
   "id": "0ddf0f9c",
   "metadata": {},
   "source": [
    "# Comparisons"
   ]
  },
  {
   "cell_type": "code",
   "execution_count": 46,
   "id": "bd8fcacb",
   "metadata": {},
   "outputs": [
    {
     "name": "stdout",
     "output_type": "stream",
     "text": [
      "True\n"
     ]
    }
   ],
   "source": [
    "print(2<3)"
   ]
  },
  {
   "cell_type": "code",
   "execution_count": 47,
   "id": "a3685aec",
   "metadata": {},
   "outputs": [
    {
     "name": "stdout",
     "output_type": "stream",
     "text": [
      "<class 'bool'>\n",
      "True\n"
     ]
    }
   ],
   "source": [
    "c = 2<3\n",
    "print(type(c))\n",
    "print(c)"
   ]
  },
  {
   "cell_type": "code",
   "execution_count": 48,
   "id": "93c1829b",
   "metadata": {},
   "outputs": [],
   "source": [
    "d = 3==4"
   ]
  },
  {
   "cell_type": "code",
   "execution_count": 49,
   "id": "a8aa3fd3",
   "metadata": {},
   "outputs": [
    {
     "name": "stdout",
     "output_type": "stream",
     "text": [
      "False\n"
     ]
    }
   ],
   "source": [
    "print(d)"
   ]
  },
  {
   "cell_type": "code",
   "execution_count": 50,
   "id": "5f814c17",
   "metadata": {},
   "outputs": [
    {
     "data": {
      "text/plain": [
       "True"
      ]
     },
     "execution_count": 50,
     "metadata": {},
     "output_type": "execute_result"
    }
   ],
   "source": [
    "3 == 3.0"
   ]
  },
  {
   "cell_type": "code",
   "execution_count": 51,
   "id": "e782338e",
   "metadata": {},
   "outputs": [],
   "source": [
    "x = 4\n",
    "y = 9\n",
    "z = 8.3\n",
    "r = -3"
   ]
  },
  {
   "cell_type": "code",
   "execution_count": 52,
   "id": "bccea8e9",
   "metadata": {},
   "outputs": [
    {
     "data": {
      "text/plain": [
       "True"
      ]
     },
     "execution_count": 52,
     "metadata": {},
     "output_type": "execute_result"
    }
   ],
   "source": [
    "(x < y) and (z < y) or (r == x)"
   ]
  },
  {
   "cell_type": "code",
   "execution_count": 53,
   "id": "1b2e166a",
   "metadata": {},
   "outputs": [
    {
     "data": {
      "text/plain": [
       "True"
      ]
     },
     "execution_count": 53,
     "metadata": {},
     "output_type": "execute_result"
    }
   ],
   "source": [
    "(x < y) or (z < y) and (r == x)"
   ]
  },
  {
   "cell_type": "code",
   "execution_count": 54,
   "id": "eed85f7f",
   "metadata": {},
   "outputs": [
    {
     "data": {
      "text/plain": [
       "False"
      ]
     },
     "execution_count": 54,
     "metadata": {},
     "output_type": "execute_result"
    }
   ],
   "source": [
    "False or False and True"
   ]
  },
  {
   "cell_type": "code",
   "execution_count": 55,
   "id": "9ec87760",
   "metadata": {},
   "outputs": [
    {
     "data": {
      "text/plain": [
       "True"
      ]
     },
     "execution_count": 55,
     "metadata": {},
     "output_type": "execute_result"
    }
   ],
   "source": [
    "False and False or True"
   ]
  },
  {
   "cell_type": "code",
   "execution_count": 56,
   "id": "700bd6a4",
   "metadata": {},
   "outputs": [
    {
     "name": "stdout",
     "output_type": "stream",
     "text": [
      "False\n"
     ]
    }
   ],
   "source": [
    "print((not(2 != 3) and True) or (False and True))"
   ]
  },
  {
   "cell_type": "code",
   "execution_count": 57,
   "id": "9ee9e604",
   "metadata": {},
   "outputs": [
    {
     "name": "stdout",
     "output_type": "stream",
     "text": [
      "5\n",
      "4\n"
     ]
    }
   ],
   "source": [
    "print(round(4.6))\n",
    "print(round(4.3))"
   ]
  },
  {
   "cell_type": "code",
   "execution_count": 58,
   "id": "2cbd8023",
   "metadata": {},
   "outputs": [
    {
     "name": "stdout",
     "output_type": "stream",
     "text": [
      "4.559\n"
     ]
    }
   ],
   "source": [
    "print(round(4.55876, 3))"
   ]
  },
  {
   "cell_type": "code",
   "execution_count": 59,
   "id": "32457147",
   "metadata": {},
   "outputs": [
    {
     "name": "stdout",
     "output_type": "stream",
     "text": [
      "4.558\n"
     ]
    }
   ],
   "source": [
    "print(round(4.55826, 3))"
   ]
  },
  {
   "cell_type": "code",
   "execution_count": 60,
   "id": "844eb41e",
   "metadata": {},
   "outputs": [
    {
     "name": "stdout",
     "output_type": "stream",
     "text": [
      "(5, 2)\n"
     ]
    }
   ],
   "source": [
    "print(divmod(27, 5))"
   ]
  },
  {
   "cell_type": "code",
   "execution_count": 61,
   "id": "a1ebe261",
   "metadata": {},
   "outputs": [
    {
     "data": {
      "text/plain": [
       "tuple"
      ]
     },
     "execution_count": 61,
     "metadata": {},
     "output_type": "execute_result"
    }
   ],
   "source": [
    "g = divmod(6, 4)\n",
    "type(g)"
   ]
  },
  {
   "cell_type": "code",
   "execution_count": 62,
   "id": "178c30ab",
   "metadata": {},
   "outputs": [
    {
     "name": "stdout",
     "output_type": "stream",
     "text": [
      "1\n"
     ]
    }
   ],
   "source": [
    "print(g[0])"
   ]
  },
  {
   "cell_type": "code",
   "execution_count": 63,
   "id": "43d58765",
   "metadata": {},
   "outputs": [
    {
     "data": {
      "text/plain": [
       "2"
      ]
     },
     "execution_count": 63,
     "metadata": {},
     "output_type": "execute_result"
    }
   ],
   "source": [
    "g[1]"
   ]
  },
  {
   "cell_type": "code",
   "execution_count": 64,
   "id": "4c24761c",
   "metadata": {},
   "outputs": [
    {
     "name": "stdout",
     "output_type": "stream",
     "text": [
      "True\n"
     ]
    }
   ],
   "source": [
    "print(isinstance(1, int))"
   ]
  },
  {
   "cell_type": "code",
   "execution_count": 65,
   "id": "c551efd0",
   "metadata": {},
   "outputs": [
    {
     "name": "stdout",
     "output_type": "stream",
     "text": [
      "False\n"
     ]
    }
   ],
   "source": [
    "print(isinstance(1.0, int))"
   ]
  },
  {
   "cell_type": "code",
   "execution_count": 66,
   "id": "cac8efcc",
   "metadata": {},
   "outputs": [
    {
     "name": "stdout",
     "output_type": "stream",
     "text": [
      "True\n"
     ]
    }
   ],
   "source": [
    "print(isinstance(1.0, (int, float)))"
   ]
  },
  {
   "cell_type": "code",
   "execution_count": 67,
   "id": "cc482fea",
   "metadata": {},
   "outputs": [
    {
     "name": "stdout",
     "output_type": "stream",
     "text": [
      "False\n"
     ]
    }
   ],
   "source": [
    "print(isinstance(1.0+5j, (int, float)))"
   ]
  },
  {
   "cell_type": "code",
   "execution_count": 68,
   "id": "521b7af4",
   "metadata": {},
   "outputs": [
    {
     "name": "stdout",
     "output_type": "stream",
     "text": [
      "True\n"
     ]
    }
   ],
   "source": [
    "print(isinstance(1.0+5j, (int, float, complex)))"
   ]
  },
  {
   "cell_type": "code",
   "execution_count": 69,
   "id": "1cc3c3bd",
   "metadata": {},
   "outputs": [
    {
     "data": {
      "text/plain": [
       "16"
      ]
     },
     "execution_count": 69,
     "metadata": {},
     "output_type": "execute_result"
    }
   ],
   "source": [
    "pow(2, 4)"
   ]
  },
  {
   "cell_type": "code",
   "execution_count": 70,
   "id": "416bdf52",
   "metadata": {},
   "outputs": [
    {
     "data": {
      "text/plain": [
       "16"
      ]
     },
     "execution_count": 70,
     "metadata": {},
     "output_type": "execute_result"
    }
   ],
   "source": [
    "2**4"
   ]
  },
  {
   "cell_type": "code",
   "execution_count": 71,
   "id": "89b9c5e4",
   "metadata": {},
   "outputs": [
    {
     "data": {
      "text/plain": [
       "2"
      ]
     },
     "execution_count": 71,
     "metadata": {},
     "output_type": "execute_result"
    }
   ],
   "source": [
    "pow(2, 4, 7)"
   ]
  },
  {
   "cell_type": "code",
   "execution_count": 72,
   "id": "d8c615a7",
   "metadata": {},
   "outputs": [
    {
     "name": "stdout",
     "output_type": "stream",
     "text": [
      "Enter a number: 54\n"
     ]
    }
   ],
   "source": [
    "a = input(\"Enter a number: \")"
   ]
  },
  {
   "cell_type": "code",
   "execution_count": 73,
   "id": "2566dd6d",
   "metadata": {},
   "outputs": [
    {
     "data": {
      "text/plain": [
       "str"
      ]
     },
     "execution_count": 73,
     "metadata": {},
     "output_type": "execute_result"
    }
   ],
   "source": [
    "type(a)"
   ]
  },
  {
   "cell_type": "code",
   "execution_count": 74,
   "id": "9ca40d05",
   "metadata": {},
   "outputs": [],
   "source": [
    "a = int(a)"
   ]
  },
  {
   "cell_type": "code",
   "execution_count": 75,
   "id": "6f5752a1",
   "metadata": {},
   "outputs": [
    {
     "data": {
      "text/plain": [
       "int"
      ]
     },
     "execution_count": 75,
     "metadata": {},
     "output_type": "execute_result"
    }
   ],
   "source": [
    "type(a)"
   ]
  },
  {
   "cell_type": "code",
   "execution_count": 76,
   "id": "919ee62a",
   "metadata": {},
   "outputs": [
    {
     "name": "stdout",
     "output_type": "stream",
     "text": [
      "49\n"
     ]
    }
   ],
   "source": [
    "print(a - 5)"
   ]
  },
  {
   "cell_type": "code",
   "execution_count": 77,
   "id": "977a2f23",
   "metadata": {},
   "outputs": [
    {
     "name": "stdout",
     "output_type": "stream",
     "text": [
      "Enter a number: 4.25\n"
     ]
    }
   ],
   "source": [
    "z = float(input(\"Enter a number: \"))"
   ]
  },
  {
   "cell_type": "code",
   "execution_count": 78,
   "id": "cd86a708",
   "metadata": {},
   "outputs": [
    {
     "data": {
      "text/plain": [
       "float"
      ]
     },
     "execution_count": 78,
     "metadata": {},
     "output_type": "execute_result"
    }
   ],
   "source": [
    "type(z)"
   ]
  },
  {
   "cell_type": "code",
   "execution_count": 80,
   "id": "8d21f45f",
   "metadata": {},
   "outputs": [
    {
     "name": "stdout",
     "output_type": "stream",
     "text": [
      "Enter a number: 4\n"
     ]
    }
   ],
   "source": [
    "z = float(input(\"Enter a number: \"))"
   ]
  },
  {
   "cell_type": "code",
   "execution_count": 81,
   "id": "b8d4257f",
   "metadata": {},
   "outputs": [],
   "source": [
    "pow?"
   ]
  },
  {
   "cell_type": "code",
   "execution_count": 84,
   "id": "c829cfb3",
   "metadata": {},
   "outputs": [
    {
     "name": "stdout",
     "output_type": "stream",
     "text": [
      "Help on method raw_input in module ipykernel.kernelbase:\n",
      "\n",
      "raw_input(prompt='') method of ipykernel.ipkernel.IPythonKernel instance\n",
      "    Forward raw_input to frontends\n",
      "    \n",
      "    Raises\n",
      "    ------\n",
      "    StdinNotImplementedError if active frontend doesn't support stdin.\n",
      "\n"
     ]
    }
   ],
   "source": [
    "help(input)"
   ]
  },
  {
   "cell_type": "code",
   "execution_count": 88,
   "id": "5e9ac4c6",
   "metadata": {},
   "outputs": [
    {
     "name": "stdout",
     "output_type": "stream",
     "text": [
      "Help on built-in function divmod in module builtins:\n",
      "\n",
      "divmod(x, y, /)\n",
      "    Return the tuple (x//y, x%y).  Invariant: div*y + mod == x.\n",
      "\n"
     ]
    }
   ],
   "source": [
    "help(divmod)"
   ]
  },
  {
   "cell_type": "code",
   "execution_count": 1,
   "id": "e8ac3a5c",
   "metadata": {},
   "outputs": [
    {
     "name": "stdout",
     "output_type": "stream",
     "text": [
      "5\n",
      "8\n",
      "8\n"
     ]
    }
   ],
   "source": [
    "a = int(input())\n",
    "b = int(input())\n",
    "if a < b:\n",
    "    print(b)\n",
    "else:\n",
    "    print(a)"
   ]
  },
  {
   "cell_type": "code",
   "execution_count": 3,
   "id": "db6ffd37",
   "metadata": {},
   "outputs": [
    {
     "name": "stdout",
     "output_type": "stream",
     "text": [
      "enter a real number a: 8\n",
      "enter a real number b: 6.7\n",
      "a is greater than b\n"
     ]
    }
   ],
   "source": [
    "a = float(input(\"enter a real number a: \"))\n",
    "b = float(input(\"enter a real number b: \"))\n",
    "if a == b:\n",
    "    print(\"a is equal to b\")\n",
    "elif a > b:\n",
    "    print(\"a is greater than b\")\n",
    "else:\n",
    "    print(\"b is greater than a\")"
   ]
  },
  {
   "cell_type": "code",
   "execution_count": 6,
   "id": "ecdda5c8",
   "metadata": {},
   "outputs": [
    {
     "data": {
      "text/plain": [
       "'\\nThis is a multiple lines comment\\nTry it out!!!\\n'"
      ]
     },
     "execution_count": 6,
     "metadata": {},
     "output_type": "execute_result"
    }
   ],
   "source": [
    "# This is a single line comment \n",
    "\n",
    "\"\"\"\n",
    "This is a multiple lines comment\n",
    "Try it out!!!\n",
    "\"\"\""
   ]
  },
  {
   "cell_type": "code",
   "execution_count": 8,
   "id": "26883820",
   "metadata": {},
   "outputs": [
    {
     "name": "stdout",
     "output_type": "stream",
     "text": [
      "Max iterations: 10\n",
      "1\n",
      "2\n",
      "3\n",
      "4\n",
      "5\n",
      "6\n",
      "7\n",
      "8\n",
      "9\n",
      "10\n",
      "done\n"
     ]
    }
   ],
   "source": [
    "n = int(input(\"Max iterations: \"))\n",
    "i = 1\n",
    "while (i <= n):\n",
    "    print(i)\n",
    "    i += 1  # i=i+1\n",
    "print(\"done\")"
   ]
  },
  {
   "cell_type": "code",
   "execution_count": 9,
   "id": "4f9ae93b",
   "metadata": {},
   "outputs": [
    {
     "name": "stdout",
     "output_type": "stream",
     "text": [
      "Max iterations: 10\n",
      "2\n",
      "4\n",
      "6\n",
      "8\n",
      "10\n"
     ]
    }
   ],
   "source": [
    "n = int(input(\"Max iterations: \"))\n",
    "i = 1\n",
    "while (i <= n):\n",
    "    if i%2 == 0:\n",
    "        print(i)\n",
    "    else:\n",
    "        pass # do nothing\n",
    "    i += 1"
   ]
  },
  {
   "cell_type": "code",
   "execution_count": 4,
   "id": "2a203dbe",
   "metadata": {},
   "outputs": [
    {
     "name": "stdout",
     "output_type": "stream",
     "text": [
      "break\n",
      "I am outside the loop\n"
     ]
    }
   ],
   "source": [
    "i = 1\n",
    "while True:\n",
    "    if i%2 == 0:\n",
    "        print(\"break\")\n",
    "        break\n",
    "    else:\n",
    "        i += 1\n",
    "        continue\n",
    "    print(\"I am inside the loop\")\n",
    "print(\"I am outside the loop\")\n",
    "    "
   ]
  },
  {
   "cell_type": "code",
   "execution_count": 3,
   "id": "6115a657",
   "metadata": {},
   "outputs": [
    {
     "name": "stdout",
     "output_type": "stream",
     "text": [
      "0\n",
      "[0]\n",
      "2\n",
      "[0, 4]\n",
      "4\n",
      "[0, 4, 16]\n",
      "6\n",
      "[0, 4, 16, 36]\n",
      "8\n",
      "[0, 4, 16, 36, 64]\n"
     ]
    }
   ],
   "source": [
    "l = []\n",
    "for i in range(0, 10, 2):\n",
    "    print(i)\n",
    "    l.append(i**2)\n",
    "    print(l)"
   ]
  },
  {
   "cell_type": "code",
   "execution_count": 15,
   "id": "990a5b56",
   "metadata": {},
   "outputs": [
    {
     "name": "stdout",
     "output_type": "stream",
     "text": [
      "cherry\n",
      "4.9\n",
      "apple\n",
      "Loop done\n"
     ]
    }
   ],
   "source": [
    "s = {\"apple\", 4.9, \"cherry\"}\n",
    "for x in s:\n",
    "    print(x)\n",
    "else:\n",
    "    print(\"Loop done\")"
   ]
  },
  {
   "cell_type": "code",
   "execution_count": 7,
   "id": "fedcc593",
   "metadata": {
    "scrolled": true
   },
   "outputs": [
    {
     "name": "stdout",
     "output_type": "stream",
     "text": [
      "apple :  1\n",
      "cherry :  game\n"
     ]
    }
   ],
   "source": [
    "d = {\"apple\":1, \"cherry\":\"game\"}\n",
    "for x in d:\n",
    "    print(x,\": \",d[x])"
   ]
  },
  {
   "cell_type": "code",
   "execution_count": 6,
   "id": "2d9dc88a",
   "metadata": {},
   "outputs": [],
   "source": [
    "def printSuccess():\n",
    "    print(\"I'm done\")\n",
    "    print(\"send me another task\")"
   ]
  },
  {
   "cell_type": "code",
   "execution_count": 8,
   "id": "206622d0",
   "metadata": {},
   "outputs": [
    {
     "name": "stdout",
     "output_type": "stream",
     "text": [
      "I'm done\n",
      "send me another task\n"
     ]
    }
   ],
   "source": [
    "printSuccess()"
   ]
  },
  {
   "cell_type": "code",
   "execution_count": 9,
   "id": "b221be22",
   "metadata": {},
   "outputs": [],
   "source": [
    "def printSuccess():\n",
    "    \"\"\" this function does nothing \"\"\"\n",
    "    print(\"I'm done\")"
   ]
  },
  {
   "cell_type": "code",
   "execution_count": 10,
   "id": "41b2db60",
   "metadata": {},
   "outputs": [
    {
     "name": "stdout",
     "output_type": "stream",
     "text": [
      "Object `printsuccess` not found.\n"
     ]
    }
   ],
   "source": [
    "printsuccess?"
   ]
  },
  {
   "cell_type": "code",
   "execution_count": 12,
   "id": "5ded147b",
   "metadata": {},
   "outputs": [],
   "source": [
    "printSuccess??"
   ]
  },
  {
   "cell_type": "code",
   "execution_count": 13,
   "id": "3b092277",
   "metadata": {},
   "outputs": [],
   "source": [
    "len??"
   ]
  },
  {
   "cell_type": "code",
   "execution_count": 14,
   "id": "3988d8b7",
   "metadata": {},
   "outputs": [
    {
     "name": "stdout",
     "output_type": "stream",
     "text": [
      "Help on function printSuccess in module __main__:\n",
      "\n",
      "printSuccess()\n",
      "    this function does nothing\n",
      "\n"
     ]
    }
   ],
   "source": [
    "help(printSuccess)"
   ]
  },
  {
   "cell_type": "code",
   "execution_count": 19,
   "id": "c4248f5b",
   "metadata": {},
   "outputs": [],
   "source": [
    "def checkArgs(a, b, c):\n",
    "    if isinstance(a, (int, float)) and isinstance(b, (int, float)) and isinstance(c, (int, float)):\n",
    "        print((a+b+c)**2)\n",
    "    else:\n",
    "        print(\"Error : the input args are not of expected argument\")"
   ]
  },
  {
   "cell_type": "code",
   "execution_count": 20,
   "id": "e380afa7",
   "metadata": {},
   "outputs": [
    {
     "name": "stdout",
     "output_type": "stream",
     "text": [
      "400\n"
     ]
    }
   ],
   "source": [
    "checkArgs(5, 9, 6)"
   ]
  },
  {
   "cell_type": "code",
   "execution_count": 21,
   "id": "67fc744f",
   "metadata": {},
   "outputs": [],
   "source": [
    "def f(c2, c1, c3):\n",
    "    print(c1, c2, c3)"
   ]
  },
  {
   "cell_type": "code",
   "execution_count": 23,
   "id": "cf114a0f",
   "metadata": {},
   "outputs": [
    {
     "name": "stdout",
     "output_type": "stream",
     "text": [
      "A B C\n"
     ]
    }
   ],
   "source": [
    "# (**)\n",
    "f(c1 = \"A\", c2 = \"B\", c3 = \"C\") # to not mix up the order of the arguments"
   ]
  },
  {
   "cell_type": "code",
   "execution_count": 24,
   "id": "beed19f9",
   "metadata": {},
   "outputs": [],
   "source": [
    "def myAdd(a, b):\n",
    "    c = a+b\n",
    "    return c # return allows to access c = a local variable outside the function"
   ]
  },
  {
   "cell_type": "code",
   "execution_count": 25,
   "id": "14b73fab",
   "metadata": {},
   "outputs": [
    {
     "name": "stdout",
     "output_type": "stream",
     "text": [
      "4\n"
     ]
    }
   ],
   "source": [
    "print(myAdd(2, 2))"
   ]
  },
  {
   "cell_type": "code",
   "execution_count": 26,
   "id": "6aed132c",
   "metadata": {},
   "outputs": [],
   "source": [
    "# (*)\n",
    "\"\"\" this function can take a variable number of input args \"\"\"\n",
    "def add(*args): # args is just a disposable name. it can be changed into whatever name\n",
    "    sum = 0\n",
    "    for i in range(len(args)): # agrs is a list of the input args\n",
    "        sum += args[i]\n",
    "    return sum"
   ]
  },
  {
   "cell_type": "code",
   "execution_count": 29,
   "id": "9517a7b3",
   "metadata": {},
   "outputs": [
    {
     "data": {
      "text/plain": [
       "28"
      ]
     },
     "execution_count": 29,
     "metadata": {},
     "output_type": "execute_result"
    }
   ],
   "source": [
    "add(2, 5, 4, 5, 7, 5)"
   ]
  },
  {
   "cell_type": "code",
   "execution_count": 30,
   "id": "27401322",
   "metadata": {},
   "outputs": [],
   "source": [
    "# (*) + (**) =>\n",
    "def printAllVariableNamesAndValues(**args):\n",
    "    for x in args:\n",
    "        print(\"Variable name is : \",x, \"and value is : \",args[x])"
   ]
  },
  {
   "cell_type": "code",
   "execution_count": 31,
   "id": "2067747c",
   "metadata": {},
   "outputs": [
    {
     "name": "stdout",
     "output_type": "stream",
     "text": [
      "Variable name is :  a and value is :  2\n",
      "Variable name is :  b and value is :  7\n",
      "Variable name is :  c and value is :  CCC\n",
      "Variable name is :  y and value is :  86.7\n"
     ]
    }
   ],
   "source": [
    "printAllVariableNamesAndValues(a = 2, b = 7, c = \"CCC\", y = 86.7)"
   ]
  },
  {
   "cell_type": "code",
   "execution_count": 32,
   "id": "fe82a7be",
   "metadata": {},
   "outputs": [],
   "source": [
    "# default value of a functions\n",
    "def gg(s = 4):\n",
    "    print(s)"
   ]
  },
  {
   "cell_type": "code",
   "execution_count": 33,
   "id": "4a4bc923",
   "metadata": {},
   "outputs": [
    {
     "name": "stdout",
     "output_type": "stream",
     "text": [
      "4\n"
     ]
    }
   ],
   "source": [
    "gg()"
   ]
  },
  {
   "cell_type": "code",
   "execution_count": 34,
   "id": "ad4ebf6f",
   "metadata": {},
   "outputs": [
    {
     "name": "stdout",
     "output_type": "stream",
     "text": [
      "56\n"
     ]
    }
   ],
   "source": [
    "gg(56)"
   ]
  },
  {
   "cell_type": "code",
   "execution_count": 35,
   "id": "c411c7e7",
   "metadata": {},
   "outputs": [
    {
     "name": "stdout",
     "output_type": "stream",
     "text": [
      "[-9, 2, 3]\n"
     ]
    }
   ],
   "source": [
    "# case of a referencial dataType = a list\n",
    "L = [1, 2, 3]\n",
    "L2 = L\n",
    "L2[0] = -9\n",
    "print(L)"
   ]
  },
  {
   "cell_type": "code",
   "execution_count": 36,
   "id": "3f31ac9e",
   "metadata": {},
   "outputs": [],
   "source": [
    "def ff(l = [1, 2]):\n",
    "    for i in l:\n",
    "        print(i)"
   ]
  },
  {
   "cell_type": "code",
   "execution_count": 37,
   "id": "d7eb18e2",
   "metadata": {},
   "outputs": [
    {
     "name": "stdout",
     "output_type": "stream",
     "text": [
      "1\n",
      "2\n",
      "12\n",
      "8\n",
      "6\n"
     ]
    }
   ],
   "source": [
    "l2 = [12, 8, 6]\n",
    "ff()\n",
    "ff(l2)"
   ]
  },
  {
   "cell_type": "code",
   "execution_count": 38,
   "id": "2ee7a5a1",
   "metadata": {},
   "outputs": [
    {
     "name": "stdout",
     "output_type": "stream",
     "text": [
      "1\n",
      "2\n"
     ]
    }
   ],
   "source": [
    "ff()"
   ]
  },
  {
   "cell_type": "markdown",
   "id": "c8bc8d6f",
   "metadata": {},
   "source": [
    " ### Modules and functions"
   ]
  },
  {
   "cell_type": "code",
   "execution_count": 1,
   "id": "da72dd82",
   "metadata": {},
   "outputs": [],
   "source": [
    "import sys\n",
    "sys.path.append('C:/MyModules/')\n",
    "import myFunctions as myfs"
   ]
  },
  {
   "cell_type": "code",
   "execution_count": 2,
   "id": "15a52d98",
   "metadata": {},
   "outputs": [],
   "source": [
    "myfs.addAllNumeric??"
   ]
  },
  {
   "cell_type": "code",
   "execution_count": 3,
   "id": "604cca6e",
   "metadata": {},
   "outputs": [
    {
     "data": {
      "text/plain": [
       "82"
      ]
     },
     "execution_count": 3,
     "metadata": {},
     "output_type": "execute_result"
    }
   ],
   "source": [
    "myfs.addAllNumeric(2, 7, 5, 6, 8, 54)"
   ]
  },
  {
   "cell_type": "code",
   "execution_count": 4,
   "id": "60fa6d97",
   "metadata": {},
   "outputs": [],
   "source": [
    "from myFunctions import addAllNumeric as f"
   ]
  },
  {
   "cell_type": "code",
   "execution_count": 5,
   "id": "5b7fff29",
   "metadata": {},
   "outputs": [
    {
     "data": {
      "text/plain": [
       "82"
      ]
     },
     "execution_count": 5,
     "metadata": {},
     "output_type": "execute_result"
    }
   ],
   "source": [
    "f(2, 7, 5, 6, 8, 54)"
   ]
  },
  {
   "cell_type": "code",
   "execution_count": 6,
   "id": "b2951a0b",
   "metadata": {},
   "outputs": [
    {
     "data": {
      "text/plain": [
       "'Ouissal'"
      ]
     },
     "execution_count": 6,
     "metadata": {},
     "output_type": "execute_result"
    }
   ],
   "source": [
    "myfs.myName"
   ]
  },
  {
   "cell_type": "code",
   "execution_count": 28,
   "id": "fa41b721",
   "metadata": {},
   "outputs": [],
   "source": [
    "def sortList(l = []):\n",
    "    minIndex = 0\n",
    "    for i_index in range(len(l)):\n",
    "        for j_index in range(i_index + 1, len(l)):\n",
    "            if l[i_index] > l[j_index]:\n",
    "                l[i_index], l[j_index] = l[j_index], l[i_index]\n",
    "    return l, l[minIndex]"
   ]
  },
  {
   "cell_type": "code",
   "execution_count": 29,
   "id": "cc0e6a33",
   "metadata": {},
   "outputs": [
    {
     "data": {
      "text/plain": [
       "([-7, 0, 1, 2, 65], -7)"
      ]
     },
     "execution_count": 29,
     "metadata": {},
     "output_type": "execute_result"
    }
   ],
   "source": [
    "sortList([2, 1, -7, 65, 0])"
   ]
  },
  {
   "cell_type": "code",
   "execution_count": 46,
   "id": "c236995e",
   "metadata": {},
   "outputs": [],
   "source": [
    "def findMin(l, start_idx):\n",
    "    min = l[start_idx]\n",
    "    indx = start_idx\n",
    "    for i in range(start_idx, len(l)):\n",
    "        x = l[i]\n",
    "        if x < min:\n",
    "            min = x\n",
    "            indx = i\n",
    "        else:\n",
    "            pass\n",
    "    return min, indx"
   ]
  },
  {
   "cell_type": "code",
   "execution_count": 48,
   "id": "7f00c1bf",
   "metadata": {},
   "outputs": [
    {
     "data": {
      "text/plain": [
       "(-7, 2)"
      ]
     },
     "execution_count": 48,
     "metadata": {},
     "output_type": "execute_result"
    }
   ],
   "source": [
    "findMin([2, 1, -7, 65, 0], 0)"
   ]
  },
  {
   "cell_type": "code",
   "execution_count": 49,
   "id": "7b0cb611",
   "metadata": {},
   "outputs": [],
   "source": [
    "def swapValues(L, idx1, idx2):\n",
    "    L[idx1], L[idx2] = L[idx2], L[idx1]\n",
    "    return L"
   ]
  },
  {
   "cell_type": "code",
   "execution_count": 44,
   "id": "9cf9c211",
   "metadata": {},
   "outputs": [
    {
     "name": "stdout",
     "output_type": "stream",
     "text": [
      "[2, 65, -7, 1, 0]\n"
     ]
    }
   ],
   "source": [
    "l1 = [2, 1, -7, 65, 0]\n",
    "l2 = swapValues(l1, 1, 3)\n",
    "print(l2)"
   ]
  },
  {
   "cell_type": "code",
   "execution_count": 60,
   "id": "7993928c",
   "metadata": {},
   "outputs": [],
   "source": [
    "# calling functions inside of other functions\n",
    "import sys\n",
    "sys.path.append('C:/MyModules/')\n",
    "from myFunctions import checkIfNotNumeric\n",
    "def sort_list(L):\n",
    "    c = 0\n",
    "    for item in L:\n",
    "        m, idx = findMin(L, c)\n",
    "        L = swapValues(L, c, idx)\n",
    "        c += 1\n",
    "    return L"
   ]
  },
  {
   "cell_type": "code",
   "execution_count": 61,
   "id": "328385af",
   "metadata": {},
   "outputs": [
    {
     "data": {
      "text/plain": [
       "[0, 1, 2, 7, 65]"
      ]
     },
     "execution_count": 61,
     "metadata": {},
     "output_type": "execute_result"
    }
   ],
   "source": [
    "l1 = [2, 1, 7, 65, 0]\n",
    "sort_list(l1)"
   ]
  },
  {
   "cell_type": "markdown",
   "id": "a5a478ce",
   "metadata": {},
   "source": [
    "### Strings"
   ]
  },
  {
   "cell_type": "code",
   "execution_count": 64,
   "id": "d04ff179",
   "metadata": {},
   "outputs": [],
   "source": [
    "def searchMin(L):\n",
    "    min = L[0]\n",
    "    for index in range(len(L)):\n",
    "        if min > L[index]:\n",
    "            min = L[index]\n",
    "    return min"
   ]
  },
  {
   "cell_type": "code",
   "execution_count": 63,
   "id": "67243202",
   "metadata": {
    "scrolled": true
   },
   "outputs": [
    {
     "data": {
      "text/plain": [
       "str"
      ]
     },
     "execution_count": 63,
     "metadata": {},
     "output_type": "execute_result"
    }
   ],
   "source": [
    "s = \"ouissal\"\n",
    "t = \"mifdal\"\n",
    "type(s)\n",
    "    s."
   ]
  },
  {
   "cell_type": "code",
   "execution_count": 108,
   "id": "ed9d83e3",
   "metadata": {},
   "outputs": [],
   "source": [
    "def sortingList(L):\n",
    "    sortedList = []\n",
    "    for i_index in range(len(L)):\n",
    "        sortedList.append(searchMin(L)) # or sortedList + [searchMin(L)]\n",
    "        L.remove(searchMin(L))\n",
    "        i_index += 1\n",
    "    return sortedList"
   ]
  },
  {
   "cell_type": "code",
   "execution_count": 109,
   "id": "51556d97",
   "metadata": {},
   "outputs": [
    {
     "data": {
      "text/plain": [
       "[-4, -2, 0, 1, 5, 6, 78, 98]"
      ]
     },
     "execution_count": 109,
     "metadata": {},
     "output_type": "execute_result"
    }
   ],
   "source": [
    "sortingList([5, 1, 6, 0, 78, -4, -2, 98])"
   ]
  },
  {
   "cell_type": "code",
   "execution_count": 110,
   "id": "839f08b3",
   "metadata": {},
   "outputs": [
    {
     "name": "stdout",
     "output_type": "stream",
     "text": [
      "This is a \n",
      "multiline string\n",
      "it will be printed \n",
      "as it is written\n"
     ]
    }
   ],
   "source": [
    "multilineString = \"\"\"This is a \n",
    "multiline string\n",
    "it will be printed \n",
    "as it is written\"\"\"\n",
    "print(multilineString)"
   ]
  },
  {
   "cell_type": "code",
   "execution_count": 111,
   "id": "bf4fca99",
   "metadata": {},
   "outputs": [
    {
     "name": "stdout",
     "output_type": "stream",
     "text": [
      "ladfiM lassiuO\n"
     ]
    }
   ],
   "source": [
    "# reversing a string or list or tuple...\n",
    "s = \"Ouissal Mifdal\"\n",
    "reversed_s = s[:: -1]\n",
    "print(reversed_s)"
   ]
  },
  {
   "cell_type": "code",
   "execution_count": 112,
   "id": "1191f3a6",
   "metadata": {},
   "outputs": [
    {
     "data": {
      "text/plain": [
       "'\\ns.strinp() : removes the spaces at the end and beginning\\ns.lower(), s.upper() : changes the case of a string\\ns.replace(\";\", \"/\") : replacing inside of a string\\ns.split(\";\") : separates a string into multiple whenever it finds \\';\\' \\n\\n'"
      ]
     },
     "execution_count": 112,
     "metadata": {},
     "output_type": "execute_result"
    }
   ],
   "source": [
    "# Methods on string\n",
    "\"\"\"\n",
    "s.strinp() : removes the spaces at the end and beginning\n",
    "s.lower(), s.upper() : changes the case of a string\n",
    "s.replace(\";\", \"/\") : replacing inside of a string\n",
    "s.split(\";\") : separates a string into multiple whenever it finds ';' \n",
    "\n",
    "\"\"\"\n"
   ]
  },
  {
   "cell_type": "code",
   "execution_count": 113,
   "id": "802531ef",
   "metadata": {},
   "outputs": [
    {
     "name": "stdout",
     "output_type": "stream",
     "text": [
      "Help on built-in function count:\n",
      "\n",
      "count(...) method of builtins.str instance\n",
      "    S.count(sub[, start[, end]]) -> int\n",
      "    \n",
      "    Return the number of non-overlapping occurrences of substring sub in\n",
      "    string S[start:end].  Optional arguments start and end are\n",
      "    interpreted as in slice notation.\n",
      "\n"
     ]
    }
   ],
   "source": [
    "help(s.count)"
   ]
  },
  {
   "cell_type": "code",
   "execution_count": 114,
   "id": "caecc044",
   "metadata": {},
   "outputs": [
    {
     "name": "stdout",
     "output_type": "stream",
     "text": [
      "True\n",
      "True\n",
      "False\n"
     ]
    }
   ],
   "source": [
    "print(\"abc\" not in \"fhfkhzeuabsjfrfojoeabjerhur\")\n",
    "print(\"abc\" == \"abc\")\n",
    "print(\"abc\" < \"aan\")"
   ]
  },
  {
   "cell_type": "code",
   "execution_count": 115,
   "id": "8a7afa5b",
   "metadata": {},
   "outputs": [
    {
     "name": "stdout",
     "output_type": "stream",
     "text": [
      "We are learning \"string\" here\n",
      "We are learning \"string\" here\n"
     ]
    }
   ],
   "source": [
    "print(\"We are learning \\\"string\\\" here\")\n",
    "print('We are learning \"string\" here')"
   ]
  },
  {
   "cell_type": "code",
   "execution_count": 116,
   "id": "46d0d082",
   "metadata": {},
   "outputs": [
    {
     "name": "stdout",
     "output_type": "stream",
     "text": [
      "Ouissal \n",
      " Mifdal\n"
     ]
    }
   ],
   "source": [
    "print(\"Ouissal \\n Mifdal\")"
   ]
  },
  {
   "cell_type": "code",
   "execution_count": 117,
   "id": "25c403f1",
   "metadata": {},
   "outputs": [
    {
     "name": "stdout",
     "output_type": "stream",
     "text": [
      "Ouissal \t Mifdal\n"
     ]
    }
   ],
   "source": [
    "print(\"Ouissal \\t Mifdal\")"
   ]
  },
  {
   "cell_type": "code",
   "execution_count": 118,
   "id": "b0658423",
   "metadata": {},
   "outputs": [
    {
     "name": "stdout",
     "output_type": "stream",
     "text": [
      "c:\n",
      "ame\\drive\n"
     ]
    }
   ],
   "source": [
    "print(\"c:\\name\\drive\")"
   ]
  },
  {
   "cell_type": "code",
   "execution_count": 106,
   "id": "68052dac",
   "metadata": {},
   "outputs": [
    {
     "name": "stdout",
     "output_type": "stream",
     "text": [
      "c:\\name\\drive\n"
     ]
    }
   ],
   "source": [
    "print(r\"c:\\name\\drive\")"
   ]
  },
  {
   "cell_type": "markdown",
   "id": "56f2b475",
   "metadata": {},
   "source": [
    "### Data Structures"
   ]
  },
  {
   "cell_type": "code",
   "execution_count": 107,
   "id": "6a04dd95",
   "metadata": {},
   "outputs": [],
   "source": [
    "L = [1, 3, 4.9, \"name\", 3, True]        #List\n",
    "T = (1, 3, 4.9, \"name\", 3, True)        #Tuple\n",
    "S = {1, 3, 4.9, \"name\", 3, True}        #Set\n",
    "D = {23:\"twothree\", 'B':43, 'C':'CCD'}  #Dictionnary"
   ]
  },
  {
   "cell_type": "code",
   "execution_count": 119,
   "id": "444b8c62",
   "metadata": {},
   "outputs": [],
   "source": [
    "L2 = L.copy()"
   ]
  },
  {
   "cell_type": "code",
   "execution_count": 120,
   "id": "b337a584",
   "metadata": {},
   "outputs": [],
   "source": [
    "L2[2] = 8865"
   ]
  },
  {
   "cell_type": "code",
   "execution_count": 121,
   "id": "6287f8c6",
   "metadata": {},
   "outputs": [
    {
     "data": {
      "text/plain": [
       "[1, 3, 8865, 'name', 3, True]"
      ]
     },
     "execution_count": 121,
     "metadata": {},
     "output_type": "execute_result"
    }
   ],
   "source": [
    "L2"
   ]
  },
  {
   "cell_type": "code",
   "execution_count": 122,
   "id": "a766b48a",
   "metadata": {},
   "outputs": [
    {
     "data": {
      "text/plain": [
       "[1, 3, 4.9, 'name', 3, True]"
      ]
     },
     "execution_count": 122,
     "metadata": {},
     "output_type": "execute_result"
    }
   ],
   "source": [
    "L\n"
   ]
  },
  {
   "cell_type": "code",
   "execution_count": 123,
   "id": "04b4181c",
   "metadata": {},
   "outputs": [
    {
     "data": {
      "text/plain": [
       "'\\n\\nSlicing with normal data structures works in copy = changing the sub data does not affect the original\\nIn Numpy, it does slicing by reference \\n\\n'"
      ]
     },
     "execution_count": 123,
     "metadata": {},
     "output_type": "execute_result"
    }
   ],
   "source": [
    "\"\"\"\n",
    "\n",
    "Slicing with normal data structures works in copy = changing the sub data does not affect the original\n",
    "In Numpy, it does slicing by reference \n",
    "\n",
    "\"\"\""
   ]
  },
  {
   "cell_type": "code",
   "execution_count": 124,
   "id": "ebe51e9c",
   "metadata": {},
   "outputs": [
    {
     "data": {
      "text/plain": [
       "\"\\n\\nctrl+m then select the cell and type 'L' \\n\\n\""
      ]
     },
     "execution_count": 124,
     "metadata": {},
     "output_type": "execute_result"
    }
   ],
   "source": [
    "# adding numbers to a jupyter notebook\n",
    "\"\"\"\n",
    "\n",
    "ctrl+m then select the cell and type 'L' \n",
    "\n",
    "\"\"\""
   ]
  },
  {
   "cell_type": "code",
   "execution_count": 126,
   "id": "11959af6",
   "metadata": {},
   "outputs": [
    {
     "name": "stdout",
     "output_type": "stream",
     "text": [
      "[0, 1, 4, 9, 16, 25, 36, 49, 64, 81]\n"
     ]
    }
   ],
   "source": [
    "l = [x**2 for x in range(10)] # same for sets\n",
    "print(l)"
   ]
  },
  {
   "cell_type": "code",
   "execution_count": 146,
   "id": "404452c7",
   "metadata": {},
   "outputs": [],
   "source": [
    "# Simple Application\n",
    "def getDataFromUser():\n",
    "    D = {}\n",
    "    while True:\n",
    "        studentId = input(\"Enter student ID: \")\n",
    "        marksList = input(\"Enter the marks by comma separated values: \")\n",
    "        moreStudents = input(\"Enter yes/no for adding more students: \")\n",
    "        if studentId in D:\n",
    "            print(studentId, \"is already inserted\")\n",
    "        else:\n",
    "            D[studentId] = marksList.split(\",\")\n",
    "        if moreStudents.lower() == \"no\":\n",
    "            return D\n",
    "        "
   ]
  },
  {
   "cell_type": "code",
   "execution_count": 147,
   "id": "4ffe3a34",
   "metadata": {},
   "outputs": [],
   "source": [
    "def getAvgMarks(D):\n",
    "    avgMarksDict = {}\n",
    "    for x in D:\n",
    "        L = D[x]\n",
    "        s = 0\n",
    "        for marks in L:\n",
    "            s += int(marks)\n",
    "            avgMarksDict[x] = s/len(L)\n",
    "    return avgMarksDict"
   ]
  },
  {
   "cell_type": "code",
   "execution_count": 141,
   "id": "422f9422",
   "metadata": {},
   "outputs": [
    {
     "name": "stdout",
     "output_type": "stream",
     "text": [
      "Enter student ID: 12\n",
      "Enter the marks by comma separated values: 87, 45, 15, 69\n",
      "Enter yes/no for adding more students: hhr\n",
      "Enter student ID: 15\n",
      "Enter the marks by comma separated values: 87, 95, 41, 30\n",
      "Enter yes/no for adding more students: htr\n",
      "Enter student ID: 65\n",
      "Enter the marks by comma separated values: 87, 41\n",
      "Enter yes/no for adding more students: no\n"
     ]
    }
   ],
   "source": [
    "studentData = getDataFromUser()"
   ]
  },
  {
   "cell_type": "code",
   "execution_count": 142,
   "id": "0bd3cf7a",
   "metadata": {},
   "outputs": [
    {
     "data": {
      "text/plain": [
       "{'12': ['87', ' 45', ' 15', ' 69'],\n",
       " '15': ['87', ' 95', ' 41', ' 30'],\n",
       " '65': ['87', ' 41']}"
      ]
     },
     "execution_count": 142,
     "metadata": {},
     "output_type": "execute_result"
    }
   ],
   "source": [
    "studentData"
   ]
  },
  {
   "cell_type": "code",
   "execution_count": 143,
   "id": "84d1c227",
   "metadata": {},
   "outputs": [],
   "source": [
    " avgM = getAvgMarks(studentData)"
   ]
  },
  {
   "cell_type": "code",
   "execution_count": 144,
   "id": "55e6835f",
   "metadata": {},
   "outputs": [
    {
     "data": {
      "text/plain": [
       "{'12': 54.0, '15': 63.25, '65': 64.0}"
      ]
     },
     "execution_count": 144,
     "metadata": {},
     "output_type": "execute_result"
    }
   ],
   "source": [
    "avgM"
   ]
  },
  {
   "cell_type": "code",
   "execution_count": 145,
   "id": "229797cf",
   "metadata": {},
   "outputs": [
    {
     "name": "stdout",
     "output_type": "stream",
     "text": [
      "Student : 12 got avg marks as: 54.0\n",
      "Student : 15 got avg marks as: 63.25\n",
      "Student : 65 got avg marks as: 64.0\n"
     ]
    }
   ],
   "source": [
    "for x in avgM:\n",
    "    print(\"Student :\",x, \"got avg marks as:\",avgM[x])"
   ]
  },
  {
   "cell_type": "code",
   "execution_count": 1,
   "id": "9f61c641",
   "metadata": {},
   "outputs": [],
   "source": [
    "def word_count(str):\n",
    "    counts = dict()\n",
    "    words = str.split()\n",
    "\n",
    "    for word in words:\n",
    "        if word in counts:\n",
    "            counts[word] += 1\n",
    "        else:\n",
    "            counts[word] = 1\n",
    "\n",
    "    return counts"
   ]
  },
  {
   "cell_type": "code",
   "execution_count": 2,
   "id": "9ad32f3b",
   "metadata": {},
   "outputs": [
    {
     "data": {
      "text/plain": [
       "{'ouissal': 1,\n",
       " 'is': 2,\n",
       " 'a': 1,\n",
       " 'very': 1,\n",
       " 'smart': 1,\n",
       " 'and': 2,\n",
       " 'beautiful': 1,\n",
       " 'person': 1,\n",
       " 'besides': 1,\n",
       " 'she': 1,\n",
       " 'amazing': 1,\n",
       " 'talented': 1}"
      ]
     },
     "execution_count": 2,
     "metadata": {},
     "output_type": "execute_result"
    }
   ],
   "source": [
    "word_count(\"ouissal is a very smart and beautiful person besides she is amazing and talented\")"
   ]
  },
  {
   "cell_type": "code",
   "execution_count": null,
   "id": "031f1558",
   "metadata": {},
   "outputs": [],
   "source": []
  }
 ],
 "metadata": {
  "kernelspec": {
   "display_name": "Python 3 (ipykernel)",
   "language": "python",
   "name": "python3"
  },
  "language_info": {
   "codemirror_mode": {
    "name": "ipython",
    "version": 3
   },
   "file_extension": ".py",
   "mimetype": "text/x-python",
   "name": "python",
   "nbconvert_exporter": "python",
   "pygments_lexer": "ipython3",
   "version": "3.9.12"
  }
 },
 "nbformat": 4,
 "nbformat_minor": 5
}
